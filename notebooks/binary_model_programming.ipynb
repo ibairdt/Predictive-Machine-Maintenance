{
 "cells": [
  {
   "cell_type": "markdown",
   "metadata": {},
   "source": [
    "Now that we have our data ready to be used properly, we will start programming different types of machine learning models and testing the results we achieve"
   ]
  }
 ],
 "metadata": {
  "language_info": {
   "name": "python"
  }
 },
 "nbformat": 4,
 "nbformat_minor": 2
}
